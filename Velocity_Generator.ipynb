{
 "cells": [
  {
   "cell_type": "code",
   "execution_count": 1,
   "metadata": {
    "collapsed": true
   },
   "outputs": [],
   "source": [
    "import pandas as pd\n",
    "import random\n",
    "import numpy as np\n",
    "import matplotlib.pyplot as plt\n",
    "import scipy\n",
    "from scipy import constants\n",
    "import math"
   ]
  },
  {
   "cell_type": "code",
   "execution_count": 2,
   "metadata": {},
   "outputs": [
    {
     "data": {
      "text/plain": [
       "550.0"
      ]
     },
     "execution_count": 2,
     "metadata": {},
     "output_type": "execute_result"
    }
   ],
   "source": [
    "df = pd.read_csv(\"Na_22.csv\",sep=\";\",decimal=\",\",header=None)\n",
    "df[1] = df[1]/max(df[1])\n",
    "max(df[0])#Endpunktenergie"
   ]
  },
  {
   "cell_type": "code",
   "execution_count": 3,
   "metadata": {},
   "outputs": [
    {
     "data": {
      "image/png": "[encoded data removed]",
      "text/plain": [
       "<matplotlib.figure.Figure at 0x7f4aee86a6d8>"
      ]
     },
     "metadata": {},
     "output_type": "display_data"
    }
   ],
   "source": [
    "plt.plot(df[0],df[1])\n",
    "plt.show()"
   ]
  },
  {
   "cell_type": "code",
   "execution_count": 4,
   "metadata": {},
   "outputs": [],
   "source": [
    "lower_endpoint = min(df[0])\n",
    "higher_endpoint = max(df[0])\n",
    "uniform_vals = [random.uniform(lower_endpoint, higher_endpoint) for i in range(1000000)]\n",
    "keeping_probability = np.interp(uniform_vals,df[0],df[1]) # 1-rejection_probability\n",
    "\n",
    "resulting_vals = []\n",
    "for energy_probability in zip(uniform_vals,keeping_probability):\n",
    "       if random.random() < energy_probability[1]:\n",
    "            resulting_vals.append(energy_probability[0])\n",
    "        \n",
    "        "
   ]
  },
  {
   "cell_type": "code",
   "execution_count": 5,
   "metadata": {},
   "outputs": [
    {
     "data": {
      "text/plain": [
       "570105"
      ]
     },
     "execution_count": 5,
     "metadata": {},
     "output_type": "execute_result"
    }
   ],
   "source": [
    "len(resulting_vals)"
   ]
  },
  {
   "cell_type": "code",
   "execution_count": 6,
   "metadata": {},
   "outputs": [
    {
     "data": {
      "image/png": "[encoded data removed]",
      "text/plain": [
       "<matplotlib.figure.Figure at 0x7f4aebfa2358>"
      ]
     },
     "metadata": {},
     "output_type": "display_data"
    }
   ],
   "source": [
    "plt.hist(resulting_vals,bins=200)\n",
    "plt.show()"
   ]
  },
  {
   "cell_type": "code",
   "execution_count": 7,
   "metadata": {},
   "outputs": [
    {
     "data": {
      "text/plain": [
       "(-189253653.84420285, 77077556.51029293, -147165624.4582218)"
      ]
     },
     "execution_count": 7,
     "metadata": {},
     "output_type": "execute_result"
    }
   ],
   "source": [
    "# p = sqrt(E_kin*(E_kin+2m_0c^2)/c^2)\n",
    "def momentum_components_from_energy(energy_in_kev):\n",
    "    energy = energy_in_kev*1000*scipy.constants.e\n",
    "    p = math.sqrt(energy*(energy+2*scipy.constants.m_e*scipy.constants.c**2)/scipy.constants.c**2)\n",
    "    \n",
    "    phi = random.uniform(0,2*scipy.constants.pi)\n",
    "    costheta = random.uniform(-1,1)\n",
    "    theta = math.acos( costheta )    \n",
    "    \n",
    "    x = p*math.sin( theta) * math.cos( phi )\n",
    "    y = p*math.sin( theta) * math.sin( phi )\n",
    "    z = p*math.cos( theta )\n",
    "    \n",
    "    return (energy,x,y,z)\n",
    "\n",
    "def velocity_from_momentum(energy,x,y,z):\n",
    "    mass = (energy/(scipy.constants.c**2))+scipy.constants.m_e\n",
    "    velocity = (x/mass,y/mass,z/mass)\n",
    "    for i in velocity:\n",
    "        if abs(i)>scipy.constants.c:\n",
    "            raise ValueError\n",
    "    return velocity\n",
    "\n",
    "velocity_from_momentum(*momentum_components_from_energy(random.random()*1000))"
   ]
  },
  {
   "cell_type": "code",
   "execution_count": 8,
   "metadata": {},
   "outputs": [],
   "source": [
    "velocity_list = [velocity_from_momentum(*momentum_components_from_energy(e)) for e in resulting_vals]"
   ]
  },
  {
   "cell_type": "code",
   "execution_count": 14,
   "metadata": {},
   "outputs": [],
   "source": [
    "with open(\"Na-22-Spectrum.csv\",\"w\") as f:\n",
    "    for (counter,velocity_tuple) in enumerate(velocity_list):\n",
    "        f.write(\"{};{};{};{}\\n\".format(counter,velocity_tuple[0],velocity_tuple[1],velocity_tuple[2]))\n",
    "    f.close()"
   ]
  },
  {
   "cell_type": "code",
   "execution_count": 15,
   "metadata": {},
   "outputs": [
    {
     "data": {
      "text/plain": [
       "-247.72547356270445"
      ]
     },
     "execution_count": 15,
     "metadata": {},
     "output_type": "execute_result"
    }
   ],
   "source": [
    "sum(velocity_list[:][0])/len(velocity_list)"
   ]
  },
  {
   "cell_type": "code",
   "execution_count": null,
   "metadata": {
    "collapsed": true
   },
   "outputs": [],
   "source": []
  }
 ],
 "metadata": {
  "kernelspec": {
   "display_name": "Python 3",
   "language": "python",
   "name": "python3"
  },
  "language_info": {
   "codemirror_mode": {
    "name": "ipython",
    "version": 3
   },
   "file_extension": ".py",
   "mimetype": "text/x-python",
   "name": "python",
   "nbconvert_exporter": "python",
   "pygments_lexer": "ipython3",
   "version": "3.6.1"
  }
 },
 "nbformat": 4,
 "nbformat_minor": 2
}
